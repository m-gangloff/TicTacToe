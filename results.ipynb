{
 "cells": [
  {
   "cell_type": "markdown",
   "metadata": {},
   "source": [
    "# 2. Q-Learning"
   ]
  },
  {
   "cell_type": "markdown",
   "metadata": {},
   "source": [
    "## 2.1 Learning from experts"
   ]
  },
  {
   "cell_type": "code",
   "execution_count": 2,
   "metadata": {},
   "outputs": [],
   "source": [
    "from tic_env import TictactoeEnv\n",
    "from Q_learning import eps_policy\n",
    "\n",
    "env = TictactoeEnv()"
   ]
  },
  {
   "cell_type": "code",
   "execution_count": 3,
   "metadata": {},
   "outputs": [
    {
     "name": "stdout",
     "output_type": "stream",
     "text": [
      "-------------------------------------------\n",
      "Game 19990 ended, winner is player X\n",
      "Optimal player = O\n",
      "Agent player = X\n",
      "|X X O|\n",
      "|X O -|\n",
      "|X - O|\n",
      "\n",
      "-------------------------------------------\n",
      "Game 19991 ended, winner is player None\n",
      "Optimal player = X\n",
      "Agent player = O\n",
      "|O X O|\n",
      "|X O X|\n",
      "|X O X|\n",
      "\n",
      "-------------------------------------------\n",
      "Game 19992 ended, winner is player X\n",
      "Optimal player = O\n",
      "Agent player = X\n",
      "|X X X|\n",
      "|O O -|\n",
      "|- - -|\n",
      "\n",
      "-------------------------------------------\n",
      "Game 19993 ended, winner is player None\n",
      "Optimal player = X\n",
      "Agent player = O\n",
      "|O X O|\n",
      "|X O X|\n",
      "|X O X|\n",
      "\n",
      "-------------------------------------------\n",
      "Game 19994 ended, winner is player X\n",
      "Optimal player = O\n",
      "Agent player = X\n",
      "|X X O|\n",
      "|X O O|\n",
      "|X - -|\n",
      "\n",
      "-------------------------------------------\n",
      "Game 19995 ended, winner is player None\n",
      "Optimal player = X\n",
      "Agent player = O\n",
      "|O X X|\n",
      "|X O O|\n",
      "|X O X|\n",
      "\n",
      "-------------------------------------------\n",
      "Game 19996 ended, winner is player X\n",
      "Optimal player = O\n",
      "Agent player = X\n",
      "|X X X|\n",
      "|- O -|\n",
      "|- O -|\n",
      "\n",
      "-------------------------------------------\n",
      "Game 19997 ended, winner is player O\n",
      "Optimal player = X\n",
      "Agent player = O\n",
      "|X O X|\n",
      "|O O O|\n",
      "|- X X|\n",
      "\n",
      "-------------------------------------------\n",
      "Game 19998 ended, winner is player X\n",
      "Optimal player = O\n",
      "Agent player = X\n",
      "|X X O|\n",
      "|X O O|\n",
      "|X - -|\n",
      "\n",
      "-------------------------------------------\n",
      "Game 19999 ended, winner is player None\n",
      "Optimal player = X\n",
      "Agent player = O\n",
      "|O X O|\n",
      "|O X X|\n",
      "|X O X|\n",
      "\n",
      "Learning finished after 39.84s\n",
      "Played a total of 20000 games\n"
     ]
    }
   ],
   "source": [
    "Q_table = eps_policy(env, print_last_10_games=True)"
   ]
  }
 ],
 "metadata": {
  "interpreter": {
   "hash": "d643e56c8356b332e138988d3326f90faf1438da2687a45045158120a5c71be7"
  },
  "kernelspec": {
   "display_name": "Python 3.8.8 ('base')",
   "language": "python",
   "name": "python3"
  },
  "language_info": {
   "codemirror_mode": {
    "name": "ipython",
    "version": 3
   },
   "file_extension": ".py",
   "mimetype": "text/x-python",
   "name": "python",
   "nbconvert_exporter": "python",
   "pygments_lexer": "ipython3",
   "version": "3.8.8"
  },
  "orig_nbformat": 4
 },
 "nbformat": 4,
 "nbformat_minor": 2
}
